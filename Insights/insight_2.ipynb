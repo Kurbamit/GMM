{
 "cells": [
  {
   "cell_type": "code",
   "execution_count": null,
   "id": "23c4495b",
   "metadata": {},
   "outputs": [],
   "source": [
    "import pandas as pd\n",
    "import numpy as np\n",
    "import seaborn as sns\n",
    "import matplotlib.pyplot as plt\n",
    "from sklearn.linear_model import LinearRegression\n",
    "from sklearn.cluster import KMeans\n",
    "from sklearn.metrics import mean_squared_error\n",
    "import scipy.stats as stats\n",
    "from itertools import combinations"
   ]
  },
  {
   "cell_type": "code",
   "execution_count": 2,
   "id": "0705fa62",
   "metadata": {},
   "outputs": [
    {
     "name": "stdout",
     "output_type": "stream",
     "text": [
      "                                              prompt  \\\n",
      "0                                                 c#   \n",
      "1                                                 c#   \n",
      "2                                  bacillus subtilus   \n",
      "3                                  bacillus subtilus   \n",
      "4  Write long detailed essay about ancient type o...   \n",
      "\n",
      "                                            response  helpfulness  \\\n",
      "0  C# is a high-level, object-oriented programmin...            3   \n",
      "1  C# (pronounced \"C sharp\") is a modern, object-...            4   \n",
      "2  Bacillus subtilis is a Gram-positive, rod-shap...            4   \n",
      "3  The Bacillus subtilis is a Gram-positive, endo...            3   \n",
      "4  Totemism is an ancient type of religion that i...            3   \n",
      "\n",
      "   correctness  coherence  complexity  verbosity  \n",
      "0            4          4           2          1  \n",
      "1            4          4           2          3  \n",
      "2            4          4           3          3  \n",
      "3            4          3           3          2  \n",
      "4            3          3           2          2  \n"
     ]
    }
   ],
   "source": [
    "data = pd.read_json('train.jsonl', lines=True)\n",
    "\n",
    "print(data.head())"
   ]
  },
  {
   "cell_type": "code",
   "execution_count": null,
   "id": "a9e57498",
   "metadata": {},
   "outputs": [],
   "source": [
    "for a, b in combinations(['helpfulness', 'correctness', 'coherence', 'complexity', 'verbosity'], 2):\n",
    "    df[f'{a}_{b}_diff'] = np.abs(df[a] - df[b])\n",
    "\n",
    "# Plot average disagreements\n",
    "disagreement_cols = [col for col in df.columns if col.endswith('_diff')]\n",
    "df[disagreement_cols].mean().sort_values().plot(kind='barh', title=\"Average Score Disagreement\")\n",
    "plt.show()"
   ]
  }
 ],
 "metadata": {
  "kernelspec": {
   "display_name": ".venv",
   "language": "python",
   "name": "python3"
  },
  "language_info": {
   "codemirror_mode": {
    "name": "ipython",
    "version": 3
   },
   "file_extension": ".py",
   "mimetype": "text/x-python",
   "name": "python",
   "nbconvert_exporter": "python",
   "pygments_lexer": "ipython3",
   "version": "3.11.12"
  }
 },
 "nbformat": 4,
 "nbformat_minor": 5
}
